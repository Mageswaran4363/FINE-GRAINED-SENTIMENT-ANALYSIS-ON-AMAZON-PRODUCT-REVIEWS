{
  "nbformat": 4,
  "nbformat_minor": 0,
  "metadata": {
    "colab": {
      "provenance": [],
      "include_colab_link": true
    },
    "kernelspec": {
      "name": "python3",
      "display_name": "Python 3"
    },
    "language_info": {
      "name": "python"
    }
  },
  "cells": [
    {
      "cell_type": "markdown",
      "metadata": {
        "id": "view-in-github",
        "colab_type": "text"
      },
      "source": [
        "<a href=\"https://colab.research.google.com/github/Mageswaran4363/FINE-GRAINED-SENTIMENT-ANALYSIS-ON-AMAZON-PRODUCT-REVIEWS/blob/main/sentiment_analysis.ipynb\" target=\"_parent\"><img src=\"https://colab.research.google.com/assets/colab-badge.svg\" alt=\"Open In Colab\"/></a>"
      ]
    },
    {
      "cell_type": "code",
      "execution_count": null,
      "metadata": {
        "id": "91diRSpTaME8"
      },
      "outputs": [],
      "source": [
        "# import Libraries\n",
        "import pandas as pd\n",
        "import numpy as np\n",
        "import re"
      ]
    },
    {
      "cell_type": "code",
      "source": [
        "# upload the csv file after running this code , copy the path from files and paste it in next pd.read_csv path.\n",
        "from google.colab import files\n",
        "uploaded = files.upload()"
      ],
      "metadata": {
        "colab": {
          "base_uri": "https://localhost:8080/",
          "height": 74
        },
        "id": "_OaTti2YfFdK",
        "outputId": "44692f82-5522-4d53-8f95-c4706b0e43d3"
      },
      "execution_count": null,
      "outputs": [
        {
          "output_type": "display_data",
          "data": {
            "text/plain": [
              "<IPython.core.display.HTML object>"
            ],
            "text/html": [
              "\n",
              "     <input type=\"file\" id=\"files-d7a5f41f-4ea9-4d98-ad24-10a667ba0f84\" name=\"files[]\" multiple disabled\n",
              "        style=\"border:none\" />\n",
              "     <output id=\"result-d7a5f41f-4ea9-4d98-ad24-10a667ba0f84\">\n",
              "      Upload widget is only available when the cell has been executed in the\n",
              "      current browser session. Please rerun this cell to enable.\n",
              "      </output>\n",
              "      <script>// Copyright 2017 Google LLC\n",
              "//\n",
              "// Licensed under the Apache License, Version 2.0 (the \"License\");\n",
              "// you may not use this file except in compliance with the License.\n",
              "// You may obtain a copy of the License at\n",
              "//\n",
              "//      http://www.apache.org/licenses/LICENSE-2.0\n",
              "//\n",
              "// Unless required by applicable law or agreed to in writing, software\n",
              "// distributed under the License is distributed on an \"AS IS\" BASIS,\n",
              "// WITHOUT WARRANTIES OR CONDITIONS OF ANY KIND, either express or implied.\n",
              "// See the License for the specific language governing permissions and\n",
              "// limitations under the License.\n",
              "\n",
              "/**\n",
              " * @fileoverview Helpers for google.colab Python module.\n",
              " */\n",
              "(function(scope) {\n",
              "function span(text, styleAttributes = {}) {\n",
              "  const element = document.createElement('span');\n",
              "  element.textContent = text;\n",
              "  for (const key of Object.keys(styleAttributes)) {\n",
              "    element.style[key] = styleAttributes[key];\n",
              "  }\n",
              "  return element;\n",
              "}\n",
              "\n",
              "// Max number of bytes which will be uploaded at a time.\n",
              "const MAX_PAYLOAD_SIZE = 100 * 1024;\n",
              "\n",
              "function _uploadFiles(inputId, outputId) {\n",
              "  const steps = uploadFilesStep(inputId, outputId);\n",
              "  const outputElement = document.getElementById(outputId);\n",
              "  // Cache steps on the outputElement to make it available for the next call\n",
              "  // to uploadFilesContinue from Python.\n",
              "  outputElement.steps = steps;\n",
              "\n",
              "  return _uploadFilesContinue(outputId);\n",
              "}\n",
              "\n",
              "// This is roughly an async generator (not supported in the browser yet),\n",
              "// where there are multiple asynchronous steps and the Python side is going\n",
              "// to poll for completion of each step.\n",
              "// This uses a Promise to block the python side on completion of each step,\n",
              "// then passes the result of the previous step as the input to the next step.\n",
              "function _uploadFilesContinue(outputId) {\n",
              "  const outputElement = document.getElementById(outputId);\n",
              "  const steps = outputElement.steps;\n",
              "\n",
              "  const next = steps.next(outputElement.lastPromiseValue);\n",
              "  return Promise.resolve(next.value.promise).then((value) => {\n",
              "    // Cache the last promise value to make it available to the next\n",
              "    // step of the generator.\n",
              "    outputElement.lastPromiseValue = value;\n",
              "    return next.value.response;\n",
              "  });\n",
              "}\n",
              "\n",
              "/**\n",
              " * Generator function which is called between each async step of the upload\n",
              " * process.\n",
              " * @param {string} inputId Element ID of the input file picker element.\n",
              " * @param {string} outputId Element ID of the output display.\n",
              " * @return {!Iterable<!Object>} Iterable of next steps.\n",
              " */\n",
              "function* uploadFilesStep(inputId, outputId) {\n",
              "  const inputElement = document.getElementById(inputId);\n",
              "  inputElement.disabled = false;\n",
              "\n",
              "  const outputElement = document.getElementById(outputId);\n",
              "  outputElement.innerHTML = '';\n",
              "\n",
              "  const pickedPromise = new Promise((resolve) => {\n",
              "    inputElement.addEventListener('change', (e) => {\n",
              "      resolve(e.target.files);\n",
              "    });\n",
              "  });\n",
              "\n",
              "  const cancel = document.createElement('button');\n",
              "  inputElement.parentElement.appendChild(cancel);\n",
              "  cancel.textContent = 'Cancel upload';\n",
              "  const cancelPromise = new Promise((resolve) => {\n",
              "    cancel.onclick = () => {\n",
              "      resolve(null);\n",
              "    };\n",
              "  });\n",
              "\n",
              "  // Wait for the user to pick the files.\n",
              "  const files = yield {\n",
              "    promise: Promise.race([pickedPromise, cancelPromise]),\n",
              "    response: {\n",
              "      action: 'starting',\n",
              "    }\n",
              "  };\n",
              "\n",
              "  cancel.remove();\n",
              "\n",
              "  // Disable the input element since further picks are not allowed.\n",
              "  inputElement.disabled = true;\n",
              "\n",
              "  if (!files) {\n",
              "    return {\n",
              "      response: {\n",
              "        action: 'complete',\n",
              "      }\n",
              "    };\n",
              "  }\n",
              "\n",
              "  for (const file of files) {\n",
              "    const li = document.createElement('li');\n",
              "    li.append(span(file.name, {fontWeight: 'bold'}));\n",
              "    li.append(span(\n",
              "        `(${file.type || 'n/a'}) - ${file.size} bytes, ` +\n",
              "        `last modified: ${\n",
              "            file.lastModifiedDate ? file.lastModifiedDate.toLocaleDateString() :\n",
              "                                    'n/a'} - `));\n",
              "    const percent = span('0% done');\n",
              "    li.appendChild(percent);\n",
              "\n",
              "    outputElement.appendChild(li);\n",
              "\n",
              "    const fileDataPromise = new Promise((resolve) => {\n",
              "      const reader = new FileReader();\n",
              "      reader.onload = (e) => {\n",
              "        resolve(e.target.result);\n",
              "      };\n",
              "      reader.readAsArrayBuffer(file);\n",
              "    });\n",
              "    // Wait for the data to be ready.\n",
              "    let fileData = yield {\n",
              "      promise: fileDataPromise,\n",
              "      response: {\n",
              "        action: 'continue',\n",
              "      }\n",
              "    };\n",
              "\n",
              "    // Use a chunked sending to avoid message size limits. See b/62115660.\n",
              "    let position = 0;\n",
              "    do {\n",
              "      const length = Math.min(fileData.byteLength - position, MAX_PAYLOAD_SIZE);\n",
              "      const chunk = new Uint8Array(fileData, position, length);\n",
              "      position += length;\n",
              "\n",
              "      const base64 = btoa(String.fromCharCode.apply(null, chunk));\n",
              "      yield {\n",
              "        response: {\n",
              "          action: 'append',\n",
              "          file: file.name,\n",
              "          data: base64,\n",
              "        },\n",
              "      };\n",
              "\n",
              "      let percentDone = fileData.byteLength === 0 ?\n",
              "          100 :\n",
              "          Math.round((position / fileData.byteLength) * 100);\n",
              "      percent.textContent = `${percentDone}% done`;\n",
              "\n",
              "    } while (position < fileData.byteLength);\n",
              "  }\n",
              "\n",
              "  // All done.\n",
              "  yield {\n",
              "    response: {\n",
              "      action: 'complete',\n",
              "    }\n",
              "  };\n",
              "}\n",
              "\n",
              "scope.google = scope.google || {};\n",
              "scope.google.colab = scope.google.colab || {};\n",
              "scope.google.colab._files = {\n",
              "  _uploadFiles,\n",
              "  _uploadFilesContinue,\n",
              "};\n",
              "})(self);\n",
              "</script> "
            ]
          },
          "metadata": {}
        },
        {
          "output_type": "stream",
          "name": "stdout",
          "text": [
            "Saving test.xlsx to test.xlsx\n"
          ]
        }
      ]
    },
    {
      "cell_type": "code",
      "source": [
        "def word_extraction(sentence):  \n",
        "   ignore = ['a', \"the\", \"is\" , \"of\", \"and\",\"are\",'we','s','do','to','but','I', 'in','they','will','it']   \n",
        "   words = re.sub(\"[^\\w]\", \" \",  sentence).split() \n",
        "   cleaned_text = [w.lower() for w in words if w not in ignore]   \n",
        "   return cleaned_text\n"
      ],
      "metadata": {
        "id": "oyXryKPQnyeM"
      },
      "execution_count": null,
      "outputs": []
    },
    {
      "cell_type": "code",
      "source": [
        "data = pd.read_csv('/content/test.csv')\n",
        "data.head"
      ],
      "metadata": {
        "id": "TC7nUoKs7ZWQ",
        "colab": {
          "base_uri": "https://localhost:8080/"
        },
        "outputId": "aff6d5b0-6893-40df-89aa-22e589d43aa7"
      },
      "execution_count": null,
      "outputs": [
        {
          "output_type": "execute_result",
          "data": {
            "text/plain": [
              "<bound method NDFrame.head of                                           ReviewTitle  class\n",
              "0                  Honest reviewof an edm music lover      1\n",
              "1                             Really good and durable      1\n",
              "2          Just awesome wireless headphone under 1000      1\n",
              "3                          Loved the colour and sound      1\n",
              "4    Battery life is good enoughto keep going all day      1\n",
              "..                                                ...    ...\n",
              "194                         Worst earphone of my life      0\n",
              "195                             horrible battery life      0\n",
              "196                                           Rubbish      0\n",
              "197                            Insane value for money      0\n",
              "198                              Sound and mic issues      0\n",
              "\n",
              "[199 rows x 2 columns]>"
            ]
          },
          "metadata": {},
          "execution_count": 6
        }
      ]
    },
    {
      "cell_type": "code",
      "source": [
        "data.info()\n",
        "\n",
        "#Populate X and y\n",
        "\n",
        "X=data['ReviewTitle']\n",
        "y=data['class']"
      ],
      "metadata": {
        "id": "v5E4mISzdEKe",
        "colab": {
          "base_uri": "https://localhost:8080/"
        },
        "outputId": "c9036357-75d5-4b1a-bf68-7ad37131a6b9"
      },
      "execution_count": null,
      "outputs": [
        {
          "output_type": "stream",
          "name": "stdout",
          "text": [
            "<class 'pandas.core.frame.DataFrame'>\n",
            "RangeIndex: 199 entries, 0 to 198\n",
            "Data columns (total 2 columns):\n",
            " #   Column       Non-Null Count  Dtype \n",
            "---  ------       --------------  ----- \n",
            " 0   ReviewTitle  199 non-null    object\n",
            " 1   class        199 non-null    int64 \n",
            "dtypes: int64(1), object(1)\n",
            "memory usage: 3.2+ KB\n"
          ]
        }
      ]
    },
    {
      "cell_type": "code",
      "source": [
        "#Tokenization\n",
        "dat=[]\n",
        "for i in data['ReviewTitle']:\n",
        " ans = word_extraction(i)\n",
        " print(ans)\n",
        " dat.append(ans)\n",
        "print(dat)"
      ],
      "metadata": {
        "id": "kAEwvtaX9e-T",
        "colab": {
          "base_uri": "https://localhost:8080/"
        },
        "outputId": "9bafba9e-1f32-49c1-c28b-ea9cc2388ddb"
      },
      "execution_count": null,
      "outputs": [
        {
          "output_type": "stream",
          "name": "stdout",
          "text": [
            "['honest', 'reviewof', 'an', 'edm', 'music', 'lover']\n",
            "['really', 'good', 'durable']\n",
            "['just', 'awesome', 'wireless', 'headphone', 'under', '1000']\n",
            "['loved', 'colour', 'sound']\n",
            "['battery', 'life', 'good', 'enoughto', 'keep', 'going', 'all', 'day']\n",
            "['running', 'has', 'become', 'more', 'comfortable', 'now']\n",
            "['extremely', 'good', 'bt', 'earphones', 'loud', 'super', 'bass']\n",
            "['budget', 'friendly']\n",
            "['satisfied', 'totally']\n",
            "['awesome', 'bass', 'battery', 'life']\n",
            "['good', 'sound', 'quality']\n",
            "['amazing', 'product', 'just', 'go', 'for']\n",
            "['no', 'second', 'thought', 'just', 'go', 'for']\n",
            "['superb']\n",
            "['a', 'good', 'multipoint', 'option', 'for', 'rs', '999']\n",
            "['too', 'good', 'this', 'place', 'am', 'so', 'happy']\n",
            "['best', 'quality', 'for', 'price']\n",
            "['value', 'money']\n",
            "['one', 'best', 'budget', 'sports', 'bluetooth', 'headphone']\n",
            "['good', 'at', 'price']\n",
            "['am', 'impressed', 'deep', 'bass', 'exactly', 'what', 'wanted']\n",
            "['worth', 'buying', 'and', 'liked']\n",
            "['comfortable', 'best', 'this', 'price', 'range']\n",
            "['they', 'rockzz']\n",
            "['excellent', 'sound', 'quality', 'value', 'money']\n",
            "['feeling', 'good', 'as', 'got', 'free', 'with', 'huawei', 'y9', 'phone']\n",
            "['mind', 'blowing', 'product']\n",
            "['first', 'imperssion', 'best']\n",
            "['best', 'budget']\n",
            "['value', 'for', 'money', 'for', 'bass', 'lovers', 'good', 'connectivity']\n",
            "['really', 'good', 'product', 'above', 'worth', 'purchase']\n",
            "['woww']\n",
            "['good', 'bass', 'value', 'for', 'money', 'magnet', 'feature', 'good']\n",
            "['worth']\n",
            "['king', 'baaaaaaaaaaassssssssssss']\n",
            "['definetly', 'worth', 'for', 'money']\n",
            "['just', 'perfect', 'earphone', 'you', 'need', 'for', 'everyday']\n",
            "['boat', 'rocks']\n",
            "['awesome', 'product']\n",
            "['not', 'value', 'for', 'money']\n",
            "['the', 'best', 'eraphone', 'yet']\n",
            "['good', 'build', 'quality', 'as', 'well', 'as', 'sound']\n",
            "['just', 'amazing', 'audio', 'quality']\n",
            "['conquers', 'competition']\n",
            "['great', 'one', 'for', 'got']\n",
            "['nice', 'earphone']\n",
            "['a', 'good', 'buy', 'good', 'quality', 'product']\n",
            "['awesome', 'product', 'love', 'with', 'boat', 'rockerz255']\n",
            "['good', 'headset', 'with', 'flexible', 'neck', 'band']\n",
            "['amazing', 'headphone']\n",
            "['a', 'good', 'product', 'geninue', 'review']\n",
            "['highly', 'recommand', 'for', 'multitask']\n",
            "['best', 'budget']\n",
            "['ultimate', 'product', 'at', 'such', 'cheap', 'rate']\n",
            "['good', 'sound', 'quality', 'at', 'reasonable', 'price']\n",
            "['happy', 'purchase']\n",
            "['highly', 'recommand', 'worth', 'for', 'money']\n",
            "['nice', 'product', 'great', 'sound']\n",
            "['nice', 'clear', 'sound', 'great', 'bass', 'decent', 'price']\n",
            "['best', 'price', 'segment']\n",
            "['so', 'nice', 'budget', 'friendly']\n",
            "['decent', 'buds']\n",
            "['nice', 'product', 'worthable']\n",
            "['great', 'sound', 'battery']\n",
            "['good', 'durable']\n",
            "['awesome', 'bass', 'sound']\n",
            "['awesome', 'boat']\n",
            "['good', 'product']\n",
            "['value', 'money', 'for', 'music', 'lovers', 'with', 'excellent', 'output']\n",
            "['worth', 'buying', 'compared', 'other', 'bluetooth', 'headphone']\n",
            "['this', 'one', 'really', 'rocks']\n",
            "['absolute', 'perfect', 'product']\n",
            "['go', 'for', 'you', 'need', 'true', 'bluetooth', 'earphone']\n",
            "['good', 'buy']\n",
            "['great', 'quality', 'given', 'budget']\n",
            "['descent', 'build', 'quality', 'sound']\n",
            "['great', 'experience']\n",
            "['it', 'was', 'amazing', 'product', 'bass', 'was', 'nice']\n",
            "['really', 'surprised', 'me']\n",
            "['an', 'outstanding', 'pair', 'wireless', 'earphone', 'at', 'cheap', 'price']\n",
            "['descent', 'product', 'at', 'price', 'tag']\n",
            "['loving']\n",
            "['quite', 'good', 'considerable', 'for', 'price', 'range']\n",
            "['the', 'baas', 'truly', 'awesome']\n",
            "['highly', 'recommanded']\n",
            "['awesome', 'marvalleous', 'get']\n",
            "['gives', 'you', 'exactly', 'what', 'you', 've', 'paid', 'for']\n",
            "['superb', 'baas']\n",
            "['great', 'music', 'for', 'ears']\n",
            "['one', 'word', 'awesome']\n",
            "['mind', 'blowing', 'superb', 'earphone']\n",
            "['worth', 'for', 'prices', 'rs', '1000']\n",
            "['overall', 'features', 'good', 'earphones']\n",
            "['nice', 'product']\n",
            "['really', 'outstanding']\n",
            "['best', 'budget', 'buy', 'an', 'earphone']\n",
            "['a', 'must', 'buy', 'product']\n",
            "['best', 'product', 'at', 'lesser', 'price']\n",
            "['suits', 'prices']\n",
            "['unrealiable', 'earphone', 'with', 'high', 'cost']\n",
            "['stopped', 'working', '14', 'days']\n",
            "['charging', 'port', 'not', 'working']\n",
            "['very', 'very', 'bad', 'durable']\n",
            "['product', 'not', 'good', 'quality']\n",
            "['not', 'all', 'expected', 'this', 'on', '0th', 'days', 'on', 'purchase']\n",
            "['below', 'average', 'product', 'don', 't', 'buy']\n",
            "['just', 'received', 'product', 'one', 'side', 'earphone', 'not', 'working']\n",
            "['don', 't', 'buy']\n",
            "['unable', 'connect', 'two', 'devices', 'simultaneously']\n",
            "['read', 'carefully']\n",
            "['defective', 'product']\n",
            "['do', 'not', 'buy']\n",
            "['not', 'so', 'good']\n",
            "['really', 'cheap', 'quality']\n",
            "['review', 'update', 'product', 'failed', 'after', 'few', 'minutes']\n",
            "['frequent', 'failures']\n",
            "['purchase', 'for', 'sub', '1000', 'product', 'offers', 'otherwise', 'be', 'too', 'expensive', 'for', 'quality']\n",
            "['good', 'bluetooth', 'headset', 'if', 'under', '1k']\n",
            "['bad', 'sound', 'quality']\n",
            "['disappointment']\n",
            "['poor', 'battery', 'connectivity']\n",
            "['not', 'worth']\n",
            "['please', 'don', 't', 'buy', 'this', 'been', 'only', 'three', 'months', 'one', 'earphone', 'not', 'working', 'properly']\n",
            "['returning', 'item']\n",
            "['one', 'earphone', 'not', 'working', 'properly']\n",
            "['not', 'accepting', 'charging', 'within', 'two', 'days', 'purchase']\n",
            "['not', 'working', 'within', '1', 'month']\n",
            "['earphone', 'cables', 'bit', 'lengthly', 'that', 'makes', 'irritation']\n",
            "['waste', 'money']\n",
            "['battery', 'issues']\n",
            "['not', 'good', 'for', 'workout']\n",
            "['doesn', 't', 'what', 'made', 'for']\n",
            "['quality', 'not', 'as', 'expected']\n",
            "['never', 'buy', 'boat', 'earphone']\n",
            "['one', 'worst', 'earphone', 'have', 'buyed']\n",
            "['not', 'at', 'all', 'worth', 'cost']\n",
            "['honest', 'unbaased', 'review', 'won', 't', 'recommand', 'buys', 'product']\n",
            "['not', 'awesome']\n",
            "['do', 'not', 'buy']\n",
            "['very', 'bad', 'wireless', 'earphone']\n",
            "['sound', 'quality', 'not', 'good', 'over', 'baas']\n",
            "['not', 'at', 'all', 'suitable', 'for', 'running', 'long', 'run', 'when', 'you', 'sweer', 'easliy', 'enetrs', 'inside']\n",
            "['feeling', 'bad', 'buying', 'this']\n",
            "['very', 'bad', 'for', 'calling', 'gaming', 'battery', 'backup', 'around', '2', 'hour']\n",
            "['waste', 'money', 'stopped', 'working', 'just', '20', 'days']\n",
            "['think', 'twice', 'before', 'buying']\n",
            "['bad', 'quality', 'not', 'stylish', 'product']\n",
            "['terriable', 'product']\n",
            "['bluetooth', 'connection', 'problem', 'while', 'playing', 'songs']\n",
            "['stopp', 'working', 'after', 'month']\n",
            "['connecting', 'disappointment', 'design', 'earpeace', 'flawed']\n",
            "['bad', 'customer', 'service']\n",
            "['not', 'value', 'for', 'money']\n",
            "['please', 'don', 't', 'buy']\n",
            "['basically', 'garbage']\n",
            "['not', 'satisfied', 'with', 'this', 'product']\n",
            "['read', 'this', 'before', 'buying']\n",
            "['definitely', 'not', 'for', 'sports', 'activity']\n",
            "['zero', 'noise', 'cancellation', 'connectivity', 'issues']\n",
            "['worst', 'customer', 'services', 'hate']\n",
            "['go', 'for', 'something', 'else', 'spend', 'money', 'more', 'get', 'good', 'one']\n",
            "['lastest', 'only', '45', 'days']\n",
            "['you', 're', 'not', 'going', 'have', 'an', 'enjoyable', 'experience', 'if', 'you', 'really', 'like', 'your', 'music']\n",
            "['product', 'stopped', 'working', '3', 'month', 'disappointed']\n",
            "['poor', 'quality', 'would', 'say', 'so']\n",
            "['poor', 'battery', 'noise', 'cancellation']\n",
            "['don', 't', 'get', 'influenced', 'by', 'celebrating', 'ads']\n",
            "['not', 'long', 'lasting', 'product']\n",
            "['bluetooth', 'quality', 'not', 'all', 'good', 'very', 'less', 'battery', 'storage']\n",
            "['medicore', 'avoid', 'buying', 'these']\n",
            "['battery', 'less', 'life']\n",
            "['stopped', 'working', 'exchanged', 'item', 'too', 'don', 't', 'work']\n",
            "['overpriced', 'baas', 'should', 'be', 'tuned', 'prevent', 'from', 'actual', 'sound']\n",
            "['the', 'worst', 'earphone', 'ever']\n",
            "['surrounding', 'issues']\n",
            "['read', 'full', 'review']\n",
            "['not', 'durable', 'at', 'all']\n",
            "['worst', 'product', 'have', 'seen', 'ever', 'not', 'suitable', 'for', 'gym', 'purpose']\n",
            "['not', 'charging', 'bought', 'just', '7', 'days', 'back']\n",
            "['disappointment', 'with', 'product', 'design']\n",
            "['not', 'worth', 'price']\n",
            "['1', 'side', 'stopped', 'below', 'month']\n",
            "['cannot', 'reply', 'on', 'durablity', 'worst']\n",
            "['feeling', 'like', 'was', 'cheated']\n",
            "['not', 'lasting', '1', 'year', 'warrently', 'useless', 'as', 'suppier', 'not', 'reachable']\n",
            "['automatically', 'disconnected', 'afyter', '30', 'mins']\n",
            "['highly', 'not', 'recommand']\n",
            "['average', 'am', 'no', 'interested']\n",
            "['worst', 'product', 'supplier']\n",
            "['cheap', 'product', 'quality']\n",
            "['useless', 'product', 'don', 't', 'purchase']\n",
            "['no', 'noise', 'cancellation']\n",
            "['not', 'so', 'great']\n",
            "['very', 'bad']\n",
            "['worst', 'earphone', 'my', 'life']\n",
            "['horrible', 'battery', 'life']\n",
            "['rubbish']\n",
            "['insane', 'value', 'for', 'money']\n",
            "['sound', 'mic', 'issues']\n",
            "[['honest', 'reviewof', 'an', 'edm', 'music', 'lover'], ['really', 'good', 'durable'], ['just', 'awesome', 'wireless', 'headphone', 'under', '1000'], ['loved', 'colour', 'sound'], ['battery', 'life', 'good', 'enoughto', 'keep', 'going', 'all', 'day'], ['running', 'has', 'become', 'more', 'comfortable', 'now'], ['extremely', 'good', 'bt', 'earphones', 'loud', 'super', 'bass'], ['budget', 'friendly'], ['satisfied', 'totally'], ['awesome', 'bass', 'battery', 'life'], ['good', 'sound', 'quality'], ['amazing', 'product', 'just', 'go', 'for'], ['no', 'second', 'thought', 'just', 'go', 'for'], ['superb'], ['a', 'good', 'multipoint', 'option', 'for', 'rs', '999'], ['too', 'good', 'this', 'place', 'am', 'so', 'happy'], ['best', 'quality', 'for', 'price'], ['value', 'money'], ['one', 'best', 'budget', 'sports', 'bluetooth', 'headphone'], ['good', 'at', 'price'], ['am', 'impressed', 'deep', 'bass', 'exactly', 'what', 'wanted'], ['worth', 'buying', 'and', 'liked'], ['comfortable', 'best', 'this', 'price', 'range'], ['they', 'rockzz'], ['excellent', 'sound', 'quality', 'value', 'money'], ['feeling', 'good', 'as', 'got', 'free', 'with', 'huawei', 'y9', 'phone'], ['mind', 'blowing', 'product'], ['first', 'imperssion', 'best'], ['best', 'budget'], ['value', 'for', 'money', 'for', 'bass', 'lovers', 'good', 'connectivity'], ['really', 'good', 'product', 'above', 'worth', 'purchase'], ['woww'], ['good', 'bass', 'value', 'for', 'money', 'magnet', 'feature', 'good'], ['worth'], ['king', 'baaaaaaaaaaassssssssssss'], ['definetly', 'worth', 'for', 'money'], ['just', 'perfect', 'earphone', 'you', 'need', 'for', 'everyday'], ['boat', 'rocks'], ['awesome', 'product'], ['not', 'value', 'for', 'money'], ['the', 'best', 'eraphone', 'yet'], ['good', 'build', 'quality', 'as', 'well', 'as', 'sound'], ['just', 'amazing', 'audio', 'quality'], ['conquers', 'competition'], ['great', 'one', 'for', 'got'], ['nice', 'earphone'], ['a', 'good', 'buy', 'good', 'quality', 'product'], ['awesome', 'product', 'love', 'with', 'boat', 'rockerz255'], ['good', 'headset', 'with', 'flexible', 'neck', 'band'], ['amazing', 'headphone'], ['a', 'good', 'product', 'geninue', 'review'], ['highly', 'recommand', 'for', 'multitask'], ['best', 'budget'], ['ultimate', 'product', 'at', 'such', 'cheap', 'rate'], ['good', 'sound', 'quality', 'at', 'reasonable', 'price'], ['happy', 'purchase'], ['highly', 'recommand', 'worth', 'for', 'money'], ['nice', 'product', 'great', 'sound'], ['nice', 'clear', 'sound', 'great', 'bass', 'decent', 'price'], ['best', 'price', 'segment'], ['so', 'nice', 'budget', 'friendly'], ['decent', 'buds'], ['nice', 'product', 'worthable'], ['great', 'sound', 'battery'], ['good', 'durable'], ['awesome', 'bass', 'sound'], ['awesome', 'boat'], ['good', 'product'], ['value', 'money', 'for', 'music', 'lovers', 'with', 'excellent', 'output'], ['worth', 'buying', 'compared', 'other', 'bluetooth', 'headphone'], ['this', 'one', 'really', 'rocks'], ['absolute', 'perfect', 'product'], ['go', 'for', 'you', 'need', 'true', 'bluetooth', 'earphone'], ['good', 'buy'], ['great', 'quality', 'given', 'budget'], ['descent', 'build', 'quality', 'sound'], ['great', 'experience'], ['it', 'was', 'amazing', 'product', 'bass', 'was', 'nice'], ['really', 'surprised', 'me'], ['an', 'outstanding', 'pair', 'wireless', 'earphone', 'at', 'cheap', 'price'], ['descent', 'product', 'at', 'price', 'tag'], ['loving'], ['quite', 'good', 'considerable', 'for', 'price', 'range'], ['the', 'baas', 'truly', 'awesome'], ['highly', 'recommanded'], ['awesome', 'marvalleous', 'get'], ['gives', 'you', 'exactly', 'what', 'you', 've', 'paid', 'for'], ['superb', 'baas'], ['great', 'music', 'for', 'ears'], ['one', 'word', 'awesome'], ['mind', 'blowing', 'superb', 'earphone'], ['worth', 'for', 'prices', 'rs', '1000'], ['overall', 'features', 'good', 'earphones'], ['nice', 'product'], ['really', 'outstanding'], ['best', 'budget', 'buy', 'an', 'earphone'], ['a', 'must', 'buy', 'product'], ['best', 'product', 'at', 'lesser', 'price'], ['suits', 'prices'], ['unrealiable', 'earphone', 'with', 'high', 'cost'], ['stopped', 'working', '14', 'days'], ['charging', 'port', 'not', 'working'], ['very', 'very', 'bad', 'durable'], ['product', 'not', 'good', 'quality'], ['not', 'all', 'expected', 'this', 'on', '0th', 'days', 'on', 'purchase'], ['below', 'average', 'product', 'don', 't', 'buy'], ['just', 'received', 'product', 'one', 'side', 'earphone', 'not', 'working'], ['don', 't', 'buy'], ['unable', 'connect', 'two', 'devices', 'simultaneously'], ['read', 'carefully'], ['defective', 'product'], ['do', 'not', 'buy'], ['not', 'so', 'good'], ['really', 'cheap', 'quality'], ['review', 'update', 'product', 'failed', 'after', 'few', 'minutes'], ['frequent', 'failures'], ['purchase', 'for', 'sub', '1000', 'product', 'offers', 'otherwise', 'be', 'too', 'expensive', 'for', 'quality'], ['good', 'bluetooth', 'headset', 'if', 'under', '1k'], ['bad', 'sound', 'quality'], ['disappointment'], ['poor', 'battery', 'connectivity'], ['not', 'worth'], ['please', 'don', 't', 'buy', 'this', 'been', 'only', 'three', 'months', 'one', 'earphone', 'not', 'working', 'properly'], ['returning', 'item'], ['one', 'earphone', 'not', 'working', 'properly'], ['not', 'accepting', 'charging', 'within', 'two', 'days', 'purchase'], ['not', 'working', 'within', '1', 'month'], ['earphone', 'cables', 'bit', 'lengthly', 'that', 'makes', 'irritation'], ['waste', 'money'], ['battery', 'issues'], ['not', 'good', 'for', 'workout'], ['doesn', 't', 'what', 'made', 'for'], ['quality', 'not', 'as', 'expected'], ['never', 'buy', 'boat', 'earphone'], ['one', 'worst', 'earphone', 'have', 'buyed'], ['not', 'at', 'all', 'worth', 'cost'], ['honest', 'unbaased', 'review', 'won', 't', 'recommand', 'buys', 'product'], ['not', 'awesome'], ['do', 'not', 'buy'], ['very', 'bad', 'wireless', 'earphone'], ['sound', 'quality', 'not', 'good', 'over', 'baas'], ['not', 'at', 'all', 'suitable', 'for', 'running', 'long', 'run', 'when', 'you', 'sweer', 'easliy', 'enetrs', 'inside'], ['feeling', 'bad', 'buying', 'this'], ['very', 'bad', 'for', 'calling', 'gaming', 'battery', 'backup', 'around', '2', 'hour'], ['waste', 'money', 'stopped', 'working', 'just', '20', 'days'], ['think', 'twice', 'before', 'buying'], ['bad', 'quality', 'not', 'stylish', 'product'], ['terriable', 'product'], ['bluetooth', 'connection', 'problem', 'while', 'playing', 'songs'], ['stopp', 'working', 'after', 'month'], ['connecting', 'disappointment', 'design', 'earpeace', 'flawed'], ['bad', 'customer', 'service'], ['not', 'value', 'for', 'money'], ['please', 'don', 't', 'buy'], ['basically', 'garbage'], ['not', 'satisfied', 'with', 'this', 'product'], ['read', 'this', 'before', 'buying'], ['definitely', 'not', 'for', 'sports', 'activity'], ['zero', 'noise', 'cancellation', 'connectivity', 'issues'], ['worst', 'customer', 'services', 'hate'], ['go', 'for', 'something', 'else', 'spend', 'money', 'more', 'get', 'good', 'one'], ['lastest', 'only', '45', 'days'], ['you', 're', 'not', 'going', 'have', 'an', 'enjoyable', 'experience', 'if', 'you', 'really', 'like', 'your', 'music'], ['product', 'stopped', 'working', '3', 'month', 'disappointed'], ['poor', 'quality', 'would', 'say', 'so'], ['poor', 'battery', 'noise', 'cancellation'], ['don', 't', 'get', 'influenced', 'by', 'celebrating', 'ads'], ['not', 'long', 'lasting', 'product'], ['bluetooth', 'quality', 'not', 'all', 'good', 'very', 'less', 'battery', 'storage'], ['medicore', 'avoid', 'buying', 'these'], ['battery', 'less', 'life'], ['stopped', 'working', 'exchanged', 'item', 'too', 'don', 't', 'work'], ['overpriced', 'baas', 'should', 'be', 'tuned', 'prevent', 'from', 'actual', 'sound'], ['the', 'worst', 'earphone', 'ever'], ['surrounding', 'issues'], ['read', 'full', 'review'], ['not', 'durable', 'at', 'all'], ['worst', 'product', 'have', 'seen', 'ever', 'not', 'suitable', 'for', 'gym', 'purpose'], ['not', 'charging', 'bought', 'just', '7', 'days', 'back'], ['disappointment', 'with', 'product', 'design'], ['not', 'worth', 'price'], ['1', 'side', 'stopped', 'below', 'month'], ['cannot', 'reply', 'on', 'durablity', 'worst'], ['feeling', 'like', 'was', 'cheated'], ['not', 'lasting', '1', 'year', 'warrently', 'useless', 'as', 'suppier', 'not', 'reachable'], ['automatically', 'disconnected', 'afyter', '30', 'mins'], ['highly', 'not', 'recommand'], ['average', 'am', 'no', 'interested'], ['worst', 'product', 'supplier'], ['cheap', 'product', 'quality'], ['useless', 'product', 'don', 't', 'purchase'], ['no', 'noise', 'cancellation'], ['not', 'so', 'great'], ['very', 'bad'], ['worst', 'earphone', 'my', 'life'], ['horrible', 'battery', 'life'], ['rubbish'], ['insane', 'value', 'for', 'money'], ['sound', 'mic', 'issues']]\n"
          ]
        }
      ]
    },
    {
      "cell_type": "code",
      "source": [
        "import tensorflow as tf\n",
        "tf.__version__\n",
        "\n",
        "!sudo pip3 install keras\n",
        "\n",
        "from tensorflow.python.keras.engine.sequential import Sequential\n",
        "\n",
        "from tensorflow.python.keras.layers import Dense, Conv2D, Flatten, Dropout, MaxPooling2D"
      ],
      "metadata": {
        "id": "0ZcXCQyDj-6X",
        "colab": {
          "base_uri": "https://localhost:8080/"
        },
        "outputId": "85abee68-9160-4b15-bef1-22a92e3e8eab"
      },
      "execution_count": null,
      "outputs": [
        {
          "output_type": "stream",
          "name": "stdout",
          "text": [
            "Looking in indexes: https://pypi.org/simple, https://us-python.pkg.dev/colab-wheels/public/simple/\n",
            "Requirement already satisfied: keras in /usr/local/lib/python3.7/dist-packages (2.9.0)\n"
          ]
        }
      ]
    },
    {
      "cell_type": "code",
      "source": [
        "from tensorflow.keras.preprocessing.text import Tokenizer\n",
        "tokenizer = Tokenizer(num_words=200)\n",
        "tokenizer.fit_on_texts(dat)\n",
        "print('Found %d unique words.' % len(tokenizer.word_index))\n",
        "print(tokenizer.word_index)\n",
        "\n"
      ],
      "metadata": {
        "id": "aTiCSDy64LH2",
        "colab": {
          "base_uri": "https://localhost:8080/"
        },
        "outputId": "2f428078-60d0-4822-edaf-50d4ea991467"
      },
      "execution_count": null,
      "outputs": [
        {
          "output_type": "stream",
          "name": "stdout",
          "text": [
            "Found 356 unique words.\n",
            "{'product': 1, 'not': 2, 'good': 3, 'for': 4, 'quality': 5, 'earphone': 6, 'sound': 7, 'money': 8, 'price': 9, 'buy': 10, 'awesome': 11, 'battery': 12, 'best': 13, 'worth': 14, 'working': 15, 'one': 16, 'at': 17, 't': 18, 'just': 19, 'bass': 20, 'this': 21, 'value': 22, 'great': 23, 'bad': 24, 'really': 25, 'budget': 26, 'with': 27, 'you': 28, 'nice': 29, 'don': 30, 'worst': 31, 'all': 32, 'bluetooth': 33, 'buying': 34, 'purchase': 35, 'days': 36, 'very': 37, 'life': 38, 'so': 39, 'as': 40, 'stopped': 41, 'an': 42, 'music': 43, 'durable': 44, 'headphone': 45, 'amazing': 46, 'go': 47, 'a': 48, 'boat': 49, 'review': 50, 'highly': 51, 'recommand': 52, 'cheap': 53, 'baas': 54, 'month': 55, 'issues': 56, 'wireless': 57, '1000': 58, 'no': 59, 'superb': 60, 'too': 61, 'am': 62, 'what': 63, 'feeling': 64, 'connectivity': 65, 'the': 66, 'was': 67, 'get': 68, 'charging': 69, 'on': 70, 'read': 71, 'disappointment': 72, 'poor': 73, '1': 74, 'have': 75, 'noise': 76, 'cancellation': 77, 'honest': 78, 'under': 79, 'going': 80, 'running': 81, 'more': 82, 'comfortable': 83, 'earphones': 84, 'friendly': 85, 'satisfied': 86, 'rs': 87, 'happy': 88, 'sports': 89, 'exactly': 90, 'range': 91, 'excellent': 92, 'got': 93, 'mind': 94, 'blowing': 95, 'lovers': 96, 'perfect': 97, 'need': 98, 'rocks': 99, 'build': 100, 'headset': 101, 'decent': 102, 'descent': 103, 'experience': 104, 'outstanding': 105, 'prices': 106, 'cost': 107, 'expected': 108, 'below': 109, 'average': 110, 'side': 111, 'two': 112, 'do': 113, 'after': 114, 'be': 115, 'if': 116, 'please': 117, 'only': 118, 'properly': 119, 'item': 120, 'within': 121, 'waste': 122, 'suitable': 123, 'long': 124, 'before': 125, 'design': 126, 'customer': 127, 'like': 128, 'lasting': 129, 'less': 130, 'ever': 131, 'useless': 132, 'reviewof': 133, 'edm': 134, 'lover': 135, 'loved': 136, 'colour': 137, 'enoughto': 138, 'keep': 139, 'day': 140, 'has': 141, 'become': 142, 'now': 143, 'extremely': 144, 'bt': 145, 'loud': 146, 'super': 147, 'totally': 148, 'second': 149, 'thought': 150, 'multipoint': 151, 'option': 152, '999': 153, 'place': 154, 'impressed': 155, 'deep': 156, 'wanted': 157, 'and': 158, 'liked': 159, 'they': 160, 'rockzz': 161, 'free': 162, 'huawei': 163, 'y9': 164, 'phone': 165, 'first': 166, 'imperssion': 167, 'above': 168, 'woww': 169, 'magnet': 170, 'feature': 171, 'king': 172, 'baaaaaaaaaaassssssssssss': 173, 'definetly': 174, 'everyday': 175, 'eraphone': 176, 'yet': 177, 'well': 178, 'audio': 179, 'conquers': 180, 'competition': 181, 'love': 182, 'rockerz255': 183, 'flexible': 184, 'neck': 185, 'band': 186, 'geninue': 187, 'multitask': 188, 'ultimate': 189, 'such': 190, 'rate': 191, 'reasonable': 192, 'clear': 193, 'segment': 194, 'buds': 195, 'worthable': 196, 'output': 197, 'compared': 198, 'other': 199, 'absolute': 200, 'true': 201, 'given': 202, 'it': 203, 'surprised': 204, 'me': 205, 'pair': 206, 'tag': 207, 'loving': 208, 'quite': 209, 'considerable': 210, 'truly': 211, 'recommanded': 212, 'marvalleous': 213, 'gives': 214, 've': 215, 'paid': 216, 'ears': 217, 'word': 218, 'overall': 219, 'features': 220, 'must': 221, 'lesser': 222, 'suits': 223, 'unrealiable': 224, 'high': 225, '14': 226, 'port': 227, '0th': 228, 'received': 229, 'unable': 230, 'connect': 231, 'devices': 232, 'simultaneously': 233, 'carefully': 234, 'defective': 235, 'update': 236, 'failed': 237, 'few': 238, 'minutes': 239, 'frequent': 240, 'failures': 241, 'sub': 242, 'offers': 243, 'otherwise': 244, 'expensive': 245, '1k': 246, 'been': 247, 'three': 248, 'months': 249, 'returning': 250, 'accepting': 251, 'cables': 252, 'bit': 253, 'lengthly': 254, 'that': 255, 'makes': 256, 'irritation': 257, 'workout': 258, 'doesn': 259, 'made': 260, 'never': 261, 'buyed': 262, 'unbaased': 263, 'won': 264, 'buys': 265, 'over': 266, 'run': 267, 'when': 268, 'sweer': 269, 'easliy': 270, 'enetrs': 271, 'inside': 272, 'calling': 273, 'gaming': 274, 'backup': 275, 'around': 276, '2': 277, 'hour': 278, '20': 279, 'think': 280, 'twice': 281, 'stylish': 282, 'terriable': 283, 'connection': 284, 'problem': 285, 'while': 286, 'playing': 287, 'songs': 288, 'stopp': 289, 'connecting': 290, 'earpeace': 291, 'flawed': 292, 'service': 293, 'basically': 294, 'garbage': 295, 'definitely': 296, 'activity': 297, 'zero': 298, 'services': 299, 'hate': 300, 'something': 301, 'else': 302, 'spend': 303, 'lastest': 304, '45': 305, 're': 306, 'enjoyable': 307, 'your': 308, '3': 309, 'disappointed': 310, 'would': 311, 'say': 312, 'influenced': 313, 'by': 314, 'celebrating': 315, 'ads': 316, 'storage': 317, 'medicore': 318, 'avoid': 319, 'these': 320, 'exchanged': 321, 'work': 322, 'overpriced': 323, 'should': 324, 'tuned': 325, 'prevent': 326, 'from': 327, 'actual': 328, 'surrounding': 329, 'full': 330, 'seen': 331, 'gym': 332, 'purpose': 333, 'bought': 334, '7': 335, 'back': 336, 'cannot': 337, 'reply': 338, 'durablity': 339, 'cheated': 340, 'year': 341, 'warrently': 342, 'suppier': 343, 'reachable': 344, 'automatically': 345, 'disconnected': 346, 'afyter': 347, '30': 348, 'mins': 349, 'interested': 350, 'supplier': 351, 'my': 352, 'horrible': 353, 'rubbish': 354, 'insane': 355, 'mic': 356}\n"
          ]
        }
      ]
    },
    {
      "cell_type": "code",
      "source": [
        "encoded_docs = tokenizer.texts_to_matrix(dat, mode='tfidf')\n",
        "print(encoded_docs)"
      ],
      "metadata": {
        "id": "i4HGnHe8uAnI",
        "colab": {
          "base_uri": "https://localhost:8080/"
        },
        "outputId": "2a55b82e-216e-47b2-f8a3-ea22fe870417"
      },
      "execution_count": null,
      "outputs": [
        {
          "output_type": "stream",
          "name": "stdout",
          "text": [
            "[[0. 0. 0. ... 0. 0. 0.]\n",
            " [0. 0. 0. ... 0. 0. 0.]\n",
            " [0. 0. 0. ... 0. 0. 0.]\n",
            " ...\n",
            " [0. 0. 0. ... 0. 0. 0.]\n",
            " [0. 0. 0. ... 0. 0. 0.]\n",
            " [0. 0. 0. ... 0. 0. 0.]]\n"
          ]
        }
      ]
    },
    {
      "cell_type": "code",
      "source": [
        "#Padded Sequence\n",
        "\n",
        "from tensorflow.keras.preprocessing.sequence import pad_sequences\n",
        "padded_sequence = pad_sequences(encoded_docs, maxlen=200)\n",
        "print(padded_sequence)\n"
      ],
      "metadata": {
        "id": "387uc0mmuVKF",
        "colab": {
          "base_uri": "https://localhost:8080/"
        },
        "outputId": "8c59967c-aa4c-4e26-9b54-c38db635f2b4"
      },
      "execution_count": null,
      "outputs": [
        {
          "output_type": "stream",
          "name": "stdout",
          "text": [
            "[[0 0 0 ... 0 0 0]\n",
            " [0 0 0 ... 0 0 0]\n",
            " [0 0 0 ... 0 0 0]\n",
            " ...\n",
            " [0 0 0 ... 0 0 0]\n",
            " [0 0 0 ... 0 0 0]\n",
            " [0 0 0 ... 0 0 0]]\n"
          ]
        }
      ]
    },
    {
      "cell_type": "code",
      "source": [
        "from tensorflow.keras.models import Sequential\n",
        "from tensorflow.keras.layers import LSTM,Dense, Dropout, SpatialDropout1D\n",
        "from tensorflow.keras.layers import Embedding\n",
        "embedding_vector_length = 32\n",
        "model = Sequential()\n",
        "model.add(Embedding(100, embedding_vector_length, input_length=200))\n",
        "model.add(SpatialDropout1D(0.25))\n",
        "model.add(LSTM(50, dropout=0.5, recurrent_dropout=0.5))\n",
        "model.add(Dropout(0.2))\n",
        "model.add(Dense(1, activation='sigmoid'))\n",
        "model.compile(loss='binary_crossentropy',optimizer='adam', metrics=['accuracy'])\n",
        "print(model.summary())\n",
        "\n"
      ],
      "metadata": {
        "id": "qIHCnNnSuhOY",
        "colab": {
          "base_uri": "https://localhost:8080/"
        },
        "outputId": "0383b4f5-518f-4ae2-b5bd-7878b776a789"
      },
      "execution_count": null,
      "outputs": [
        {
          "output_type": "stream",
          "name": "stdout",
          "text": [
            "Model: \"sequential\"\n",
            "_________________________________________________________________\n",
            " Layer (type)                Output Shape              Param #   \n",
            "=================================================================\n",
            " embedding (Embedding)       (None, 200, 32)           3200      \n",
            "                                                                 \n",
            " spatial_dropout1d (SpatialD  (None, 200, 32)          0         \n",
            " ropout1D)                                                       \n",
            "                                                                 \n",
            " lstm (LSTM)                 (None, 50)                16600     \n",
            "                                                                 \n",
            " dropout (Dropout)           (None, 50)                0         \n",
            "                                                                 \n",
            " dense (Dense)               (None, 1)                 51        \n",
            "                                                                 \n",
            "=================================================================\n",
            "Total params: 19,851\n",
            "Trainable params: 19,851\n",
            "Non-trainable params: 0\n",
            "_________________________________________________________________\n",
            "None\n"
          ]
        }
      ]
    },
    {
      "cell_type": "code",
      "source": [
        "history = model.fit(padded_sequence,y,validation_split=0.2, epochs=10, batch_size=32)\n"
      ],
      "metadata": {
        "id": "xWkqpn33vGIW",
        "colab": {
          "base_uri": "https://localhost:8080/"
        },
        "outputId": "ae696c68-c073-4f9b-8c3f-618eba547117"
      },
      "execution_count": null,
      "outputs": [
        {
          "output_type": "stream",
          "name": "stdout",
          "text": [
            "Epoch 1/10\n",
            "5/5 [==============================] - 1s 297ms/step - loss: 0.6658 - accuracy: 0.6226 - val_loss: 1.0053 - val_accuracy: 0.0000e+00\n",
            "Epoch 2/10\n",
            "5/5 [==============================] - 1s 286ms/step - loss: 0.6685 - accuracy: 0.6226 - val_loss: 0.9610 - val_accuracy: 0.0000e+00\n",
            "Epoch 3/10\n",
            "5/5 [==============================] - 1s 292ms/step - loss: 0.6621 - accuracy: 0.6226 - val_loss: 0.9450 - val_accuracy: 0.0000e+00\n",
            "Epoch 4/10\n",
            "5/5 [==============================] - 1s 284ms/step - loss: 0.6653 - accuracy: 0.6226 - val_loss: 0.9366 - val_accuracy: 0.0000e+00\n",
            "Epoch 5/10\n",
            "5/5 [==============================] - 1s 290ms/step - loss: 0.6653 - accuracy: 0.6226 - val_loss: 0.9512 - val_accuracy: 0.0000e+00\n",
            "Epoch 6/10\n",
            "5/5 [==============================] - 1s 279ms/step - loss: 0.6676 - accuracy: 0.6226 - val_loss: 0.9482 - val_accuracy: 0.0000e+00\n",
            "Epoch 7/10\n",
            "5/5 [==============================] - 1s 279ms/step - loss: 0.6557 - accuracy: 0.6226 - val_loss: 0.9703 - val_accuracy: 0.0000e+00\n",
            "Epoch 8/10\n",
            "5/5 [==============================] - 1s 280ms/step - loss: 0.6652 - accuracy: 0.6226 - val_loss: 0.9755 - val_accuracy: 0.0000e+00\n",
            "Epoch 9/10\n",
            "5/5 [==============================] - 1s 280ms/step - loss: 0.6604 - accuracy: 0.6226 - val_loss: 0.9950 - val_accuracy: 0.0000e+00\n",
            "Epoch 10/10\n",
            "5/5 [==============================] - 1s 275ms/step - loss: 0.6609 - accuracy: 0.6226 - val_loss: 0.9866 - val_accuracy: 0.0000e+00\n"
          ]
        }
      ]
    },
    {
      "cell_type": "code",
      "source": [
        "#Plot 1\n",
        "\n",
        "import matplotlib.pyplot as plt\n",
        "plt.plot(history.history['accuracy'], label='acc')\n",
        "plt.plot(history.history['val_accuracy'], label='val_acc')\n",
        "plt.legend()\n",
        "plt.show()\n",
        "plt.savefig(\"Accuracy plot.jpg\")"
      ],
      "metadata": {
        "id": "LDFWtsN5w6rR",
        "colab": {
          "base_uri": "https://localhost:8080/",
          "height": 282
        },
        "outputId": "1827c537-cf75-4295-8947-284753f073c7"
      },
      "execution_count": null,
      "outputs": [
        {
          "output_type": "display_data",
          "data": {
            "text/plain": [
              "<Figure size 432x288 with 1 Axes>"
            ],
            "image/png": "[encoded data removed]"
          },
          "metadata": {
            "needs_background": "light"
          }
        },
        {
          "output_type": "display_data",
          "data": {
            "text/plain": [
              "<Figure size 432x288 with 0 Axes>"
            ]
          },
          "metadata": {}
        }
      ]
    },
    {
      "cell_type": "markdown",
      "source": [],
      "metadata": {
        "id": "mZmckaZsY0A7"
      }
    },
    {
      "cell_type": "code",
      "source": [
        "#Plot 2\n",
        "plt.plot(history.history['loss'], label='loss')\n",
        "plt.plot(history.history['val_loss'], label='val_loss')\n",
        "plt.legend()\n",
        "plt.show()\n",
        "plt.savefig(\"Loss plt.jpg\")\n"
      ],
      "metadata": {
        "id": "bHMpC7C9xB_h",
        "colab": {
          "base_uri": "https://localhost:8080/",
          "height": 282
        },
        "outputId": "4448c6ac-b888-4885-f61f-7056fae772e6"
      },
      "execution_count": null,
      "outputs": [
        {
          "output_type": "display_data",
          "data": {
            "text/plain": [
              "<Figure size 432x288 with 1 Axes>"
            ],
            "image/png": "[encoded data removed]"
          },
          "metadata": {
            "needs_background": "light"
          }
        },
        {
          "output_type": "display_data",
          "data": {
            "text/plain": [
              "<Figure size 432x288 with 0 Axes>"
            ]
          },
          "metadata": {}
        }
      ]
    },
    {
      "cell_type": "code",
      "source": [
        "#Sentiment PRediction\n",
        "\n",
        "def predict_sentiment(text):\n",
        "    tw = tokenizer.texts_to_sequences([text])\n",
        "    tw = pad_sequences(tw,maxlen=200)\n",
        "    prediction = int(model.predict(tw).round().item())\n",
        "    print(\"Predicted label: \", [prediction])\n"
      ],
      "metadata": {
        "id": "088nu2hBxIbV"
      },
      "execution_count": null,
      "outputs": []
    },
    {
      "cell_type": "code",
      "source": [
        "\n",
        "\n",
        "test_sentence1 = \"good\"\n",
        "predict_sentiment(test_sentence1)\n",
        "\n"
      ],
      "metadata": {
        "id": "KJMhsXmvxLkX",
        "colab": {
          "base_uri": "https://localhost:8080/"
        },
        "outputId": "275438cd-d99b-469e-974d-e915d4929d9d"
      },
      "execution_count": null,
      "outputs": [
        {
          "output_type": "stream",
          "name": "stdout",
          "text": [
            "1/1 [==============================] - 0s 44ms/step\n",
            "Predicted label:  [1]\n"
          ]
        }
      ]
    }
  ]
}